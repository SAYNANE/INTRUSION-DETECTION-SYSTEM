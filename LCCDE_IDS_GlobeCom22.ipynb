{
 "cells": [
  {
   "cell_type": "code",
   "execution_count": 2,
   "id": "c13df9ad-ecca-4547-aeb2-2cf18dc813cc",
   "metadata": {},
   "outputs": [],
   "source": [
    "import warnings\n",
    "warnings.filterwarnings(\"ignore\")"
   ]
  },
  {
   "cell_type": "code",
   "execution_count": 10,
   "id": "8cb7de59-35db-42ff-a434-f93789665d2c",
   "metadata": {},
   "outputs": [],
   "source": [
    "import pandas as pd\n",
    "import numpy as np\n",
    "import matplotlib.pyplot as plt\n",
    "import seaborn as sns\n",
    "from sklearn.model_selection import train_test_split\n",
    "from sklearn.metrics import classification_report,confusion_matrix,accuracy_score, precision_score, recall_score, f1_score\n",
    "import lightgbm as lgb\n",
    "import catboost as cbt\n",
    "import xgboost as xgb\n",
    "import time\n",
    "from river import stream\n",
    "from statistics import mode"
   ]
  },
  {
   "cell_type": "code",
   "execution_count": 11,
   "id": "76b52792-7575-483f-b628-b95e1aa527c8",
   "metadata": {},
   "outputs": [],
   "source": [
    "df = pd.read_csv(\"CICIDS2017_sample_km.csv\")\n"
   ]
  },
  {
   "cell_type": "code",
   "execution_count": 12,
   "id": "e0ad463d-f072-4de3-bf56-c9231efe5a1d",
   "metadata": {},
   "outputs": [
    {
     "data": {
      "text/plain": [
       "Label\n",
       "0    18225\n",
       "3     3042\n",
       "6     2180\n",
       "1     1966\n",
       "5     1255\n",
       "2       96\n",
       "4       36\n",
       "Name: count, dtype: int64"
      ]
     },
     "execution_count": 12,
     "metadata": {},
     "output_type": "execute_result"
    }
   ],
   "source": [
    "df.Label.value_counts()"
   ]
  },
  {
   "cell_type": "code",
   "execution_count": 13,
   "id": "3c6774f7-16af-47d3-a56c-d1a48cac62f1",
   "metadata": {},
   "outputs": [],
   "source": [
    "X = df.drop(['Label'],axis=1)\n",
    "y = df['Label']\n",
    "X_train, X_test, y_train, y_test = train_test_split(X,y, train_size = 0.8, test_size = 0.2, random_state = 0) #shuffle=False"
   ]
  },
  {
   "cell_type": "code",
   "execution_count": 14,
   "id": "b4327232-607a-415b-b29f-147ed3cd14b4",
   "metadata": {},
   "outputs": [
    {
     "data": {
      "text/plain": [
       "Label\n",
       "0    14569\n",
       "3     2430\n",
       "6     1728\n",
       "1     1579\n",
       "5     1024\n",
       "2       82\n",
       "4       28\n",
       "Name: count, dtype: int64"
      ]
     },
     "execution_count": 14,
     "metadata": {},
     "output_type": "execute_result"
    }
   ],
   "source": [
    "pd.Series(y_train).value_counts()"
   ]
  },
  {
   "cell_type": "code",
   "execution_count": 15,
   "id": "79ff11ee-2eb9-46f0-9f0d-5839e9f9d43a",
   "metadata": {},
   "outputs": [],
   "source": [
    "from imblearn.over_sampling import SMOTE\n",
    "smote=SMOTE(n_jobs=-1,sampling_strategy={2:1000,4:1000})"
   ]
  },
  {
   "cell_type": "code",
   "execution_count": 16,
   "id": "a044cf80-eaec-4d7e-8e16-22a14a2c6eaf",
   "metadata": {},
   "outputs": [],
   "source": [
    "X_train, y_train = smote.fit_resample(X_train, y_train)"
   ]
  },
  {
   "cell_type": "code",
   "execution_count": 17,
   "id": "1241422f-54b2-48bf-82d5-2971580e31a2",
   "metadata": {},
   "outputs": [
    {
     "data": {
      "text/plain": [
       "Label\n",
       "0    14569\n",
       "3     2430\n",
       "6     1728\n",
       "1     1579\n",
       "5     1024\n",
       "2     1000\n",
       "4     1000\n",
       "Name: count, dtype: int64"
      ]
     },
     "execution_count": 17,
     "metadata": {},
     "output_type": "execute_result"
    }
   ],
   "source": [
    "pd.Series(y_train).value_counts()"
   ]
  },
  {
   "cell_type": "code",
   "execution_count": 28,
   "id": "cf962aba-30c0-49b6-9bb4-c7adc1af4806",
   "metadata": {},
   "outputs": [
    {
     "name": "stdout",
     "output_type": "stream",
     "text": [
      "[LightGBM] [Warning] Found whitespace in feature_names, replace with underlines\n",
      "[LightGBM] [Info] Auto-choosing row-wise multi-threading, the overhead of testing was 0.004296 seconds.\n",
      "You can set `force_row_wise=true` to remove the overhead.\n",
      "And if memory is not enough, you can set `force_col_wise=true`.\n",
      "[LightGBM] [Info] Total Bins 14089\n",
      "[LightGBM] [Info] Number of data points in the train set: 23330, number of used features: 63\n",
      "[LightGBM] [Info] Start training from score -0.470844\n",
      "[LightGBM] [Info] Start training from score -2.692948\n",
      "[LightGBM] [Info] Start training from score -3.149740\n",
      "[LightGBM] [Info] Start training from score -2.261849\n",
      "[LightGBM] [Info] Start training from score -3.149740\n",
      "[LightGBM] [Info] Start training from score -3.126024\n",
      "[LightGBM] [Info] Start training from score -2.602775\n",
      "[LightGBM] [Warning] No further splits with positive gain, best gain: -inf\n",
      "[LightGBM] [Warning] No further splits with positive gain, best gain: -inf\n",
      "[LightGBM] [Warning] No further splits with positive gain, best gain: -inf\n",
      "[LightGBM] [Warning] No further splits with positive gain, best gain: -inf\n",
      "[LightGBM] [Warning] No further splits with positive gain, best gain: -inf\n",
      "[LightGBM] [Warning] No further splits with positive gain, best gain: -inf\n",
      "[LightGBM] [Warning] No further splits with positive gain, best gain: -inf\n",
      "[LightGBM] [Warning] No further splits with positive gain, best gain: -inf\n",
      "[LightGBM] [Warning] No further splits with positive gain, best gain: -inf\n",
      "[LightGBM] [Warning] No further splits with positive gain, best gain: -inf\n",
      "[LightGBM] [Warning] No further splits with positive gain, best gain: -inf\n",
      "[LightGBM] [Warning] No further splits with positive gain, best gain: -inf\n",
      "[LightGBM] [Warning] No further splits with positive gain, best gain: -inf\n",
      "[LightGBM] [Warning] No further splits with positive gain, best gain: -inf\n",
      "[LightGBM] [Warning] No further splits with positive gain, best gain: -inf\n",
      "[LightGBM] [Warning] No further splits with positive gain, best gain: -inf\n",
      "[LightGBM] [Warning] No further splits with positive gain, best gain: -inf\n",
      "[LightGBM] [Warning] No further splits with positive gain, best gain: -inf\n",
      "[LightGBM] [Warning] No further splits with positive gain, best gain: -inf\n",
      "[LightGBM] [Warning] No further splits with positive gain, best gain: -inf\n",
      "[LightGBM] [Warning] No further splits with positive gain, best gain: -inf\n",
      "[LightGBM] [Warning] No further splits with positive gain, best gain: -inf\n",
      "[LightGBM] [Warning] No further splits with positive gain, best gain: -inf\n",
      "[LightGBM] [Warning] No further splits with positive gain, best gain: -inf\n",
      "[LightGBM] [Warning] No further splits with positive gain, best gain: -inf\n",
      "[LightGBM] [Warning] No further splits with positive gain, best gain: -inf\n",
      "[LightGBM] [Warning] No further splits with positive gain, best gain: -inf\n",
      "[LightGBM] [Warning] No further splits with positive gain, best gain: -inf\n",
      "[LightGBM] [Warning] No further splits with positive gain, best gain: -inf\n",
      "[LightGBM] [Warning] No further splits with positive gain, best gain: -inf\n",
      "[LightGBM] [Warning] No further splits with positive gain, best gain: -inf\n",
      "[LightGBM] [Warning] No further splits with positive gain, best gain: -inf\n",
      "[LightGBM] [Warning] No further splits with positive gain, best gain: -inf\n",
      "[LightGBM] [Warning] No further splits with positive gain, best gain: -inf\n",
      "[LightGBM] [Warning] No further splits with positive gain, best gain: -inf\n",
      "[LightGBM] [Warning] No further splits with positive gain, best gain: -inf\n",
      "[LightGBM] [Warning] No further splits with positive gain, best gain: -inf\n",
      "              precision    recall  f1-score   support\n",
      "\n",
      "           0       1.00      1.00      1.00      3656\n",
      "           1       1.00      0.99      0.99       387\n",
      "           2       1.00      1.00      1.00        14\n",
      "           3       1.00      0.99      1.00       612\n",
      "           4       1.00      0.75      0.86         8\n",
      "           5       0.99      1.00      0.99       231\n",
      "           6       1.00      0.99      1.00       452\n",
      "\n",
      "    accuracy                           1.00      5360\n",
      "   macro avg       1.00      0.96      0.98      5360\n",
      "weighted avg       1.00      1.00      1.00      5360\n",
      "\n",
      "Accuracy of LightGBM: 0.9972014925373134\n",
      "Precision of LightGBM: 0.9972121798881559\n",
      "Recall of LightGBM: 0.9972014925373134\n",
      "Average F1 of LightGBM: 0.997174951002782\n",
      "F1 of LightGBM for each type of attack: [0.99808743 0.99481865 1.         0.99672131 0.85714286 0.99354839\n",
      " 0.99667037]\n"
     ]
    },
    {
     "data": {
      "image/png": "[encoded data removed]",
      "text/plain": [
       "<Figure size 500x500 with 2 Axes>"
      ]
     },
     "metadata": {},
     "output_type": "display_data"
    },
    {
     "name": "stdout",
     "output_type": "stream",
     "text": [
      "CPU times: total: 5.25 s\n",
      "Wall time: 4.01 s\n"
     ]
    }
   ],
   "source": [
    "\n",
    "%%time\n",
    "# Train the LightGBM algorithm\n",
    "import lightgbm as lgb\n",
    "lg = lgb.LGBMClassifier()\n",
    "lg.fit(X_train, y_train)\n",
    "y_pred = lg.predict(X_test)\n",
    "print(classification_report(y_test,y_pred))\n",
    "print(\"Accuracy of LightGBM: \"+ str(accuracy_score(y_test, y_pred)))\n",
    "print(\"Precision of LightGBM: \"+ str(precision_score(y_test, y_pred, average='weighted')))\n",
    "print(\"Recall of LightGBM: \"+ str(recall_score(y_test, y_pred, average='weighted')))\n",
    "print(\"Average F1 of LightGBM: \"+ str(f1_score(y_test, y_pred, average='weighted')))\n",
    "print(\"F1 of LightGBM for each type of attack: \"+ str(f1_score(y_test, y_pred, average=None)))\n",
    "lg_f1=f1_score(y_test, y_pred, average=None)\n",
    "\n",
    "# Plot the confusion matrix\n",
    "cm=confusion_matrix(y_test,y_pred)\n",
    "f,ax=plt.subplots(figsize=(5,5))\n",
    "sns.heatmap(cm,annot=True,linewidth=0.5,linecolor=\"red\",fmt=\".0f\",ax=ax)\n",
    "plt.xlabel(\"y_pred\")\n",
    "plt.ylabel(\"y_true\")\n",
    "plt.show()"
   ]
  },
  {
   "cell_type": "code",
   "execution_count": 29,
   "id": "fe0d29f7-7afd-4ae9-be48-40a2dd95f422",
   "metadata": {},
   "outputs": [
    {
     "name": "stdout",
     "output_type": "stream",
     "text": [
      "              precision    recall  f1-score   support\n",
      "\n",
      "           0       1.00      1.00      1.00      3656\n",
      "           1       0.99      0.99      0.99       387\n",
      "           2       1.00      1.00      1.00        14\n",
      "           3       1.00      1.00      1.00       612\n",
      "           4       1.00      0.75      0.86         8\n",
      "           5       0.99      1.00      0.99       231\n",
      "           6       1.00      1.00      1.00       452\n",
      "\n",
      "    accuracy                           1.00      5360\n",
      "   macro avg       1.00      0.96      0.98      5360\n",
      "weighted avg       1.00      1.00      1.00      5360\n",
      "\n",
      "Accuracy of XGBoost: 0.9970149253731343\n",
      "Precision of XGBoost: 0.9970184323527784\n",
      "Recall of XGBoost: 0.9970149253731343\n",
      "Average F1 of XGBoost: 0.9969876920147069\n",
      "F1 of XGBoost for each type of attack: [0.99808586 0.99092088 1.         0.99836868 0.85714286 0.99137931\n",
      " 0.99667774]\n"
     ]
    },
    {
     "data": {
      "image/png": "[encoded data removed]",
      "text/plain": [
       "<Figure size 500x500 with 2 Axes>"
      ]
     },
     "metadata": {},
     "output_type": "display_data"
    },
    {
     "name": "stdout",
     "output_type": "stream",
     "text": [
      "CPU times: total: 10.1 s\n",
      "Wall time: 4.14 s\n"
     ]
    }
   ],
   "source": [
    "%%time\n",
    "# Train the XGBoost algorithm\n",
    "import xgboost as xgb\n",
    "xg = xgb.XGBClassifier()\n",
    "\n",
    "X_train_x = X_train.values\n",
    "X_test_x = X_test.values\n",
    "\n",
    "xg.fit(X_train_x, y_train)\n",
    "\n",
    "y_pred = xg.predict(X_test_x)\n",
    "print(classification_report(y_test,y_pred))\n",
    "print(\"Accuracy of XGBoost: \"+ str(accuracy_score(y_test, y_pred)))\n",
    "print(\"Precision of XGBoost: \"+ str(precision_score(y_test, y_pred, average='weighted')))\n",
    "print(\"Recall of XGBoost: \"+ str(recall_score(y_test, y_pred, average='weighted')))\n",
    "print(\"Average F1 of XGBoost: \"+ str(f1_score(y_test, y_pred, average='weighted')))\n",
    "print(\"F1 of XGBoost for each type of attack: \"+ str(f1_score(y_test, y_pred, average=None)))\n",
    "xg_f1=f1_score(y_test, y_pred, average=None)\n",
    "\n",
    "# Plot the confusion matrix\n",
    "cm=confusion_matrix(y_test,y_pred)\n",
    "f,ax=plt.subplots(figsize=(5,5))\n",
    "sns.heatmap(cm,annot=True,linewidth=0.5,linecolor=\"red\",fmt=\".0f\",ax=ax)\n",
    "plt.xlabel(\"y_pred\")\n",
    "plt.ylabel(\"y_true\")\n",
    "plt.show()"
   ]
  },
  {
   "cell_type": "code",
   "execution_count": 30,
   "id": "0efab099-03f7-44fe-8e35-cf8af624e22a",
   "metadata": {},
   "outputs": [
    {
     "name": "stdout",
     "output_type": "stream",
     "text": [
      "              precision    recall  f1-score   support\n",
      "\n",
      "           0       1.00      1.00      1.00      3656\n",
      "           1       0.99      0.99      0.99       387\n",
      "           2       1.00      1.00      1.00        14\n",
      "           3       1.00      0.99      0.99       612\n",
      "           4       1.00      0.75      0.86         8\n",
      "           5       0.99      1.00      0.99       231\n",
      "           6       1.00      0.99      0.99       452\n",
      "\n",
      "    accuracy                           1.00      5360\n",
      "   macro avg       1.00      0.96      0.98      5360\n",
      "weighted avg       1.00      1.00      1.00      5360\n",
      "\n",
      "Accuracy of CatBoost: 0.9960820895522388\n",
      "Precision of CatBoost: 0.996085595655077\n",
      "Recall of CatBoost: 0.9960820895522388\n",
      "Average F1 of CatBoost: 0.996055585152228\n",
      "F1 of CatBoost for each type of attack: [0.99753964 0.99353169 1.         0.99427637 0.85714286 0.99137931\n",
      " 0.99334812]\n"
     ]
    },
    {
     "data": {
      "image/png": "[encoded data removed]",
      "text/plain": [
       "<Figure size 500x500 with 2 Axes>"
      ]
     },
     "metadata": {},
     "output_type": "display_data"
    },
    {
     "name": "stdout",
     "output_type": "stream",
     "text": [
      "CPU times: total: 3min 52s\n",
      "Wall time: 1min 26s\n"
     ]
    }
   ],
   "source": [
    "%%time\n",
    "# Train the CatBoost algorithm\n",
    "import catboost as cbt\n",
    "cb = cbt.CatBoostClassifier(verbose=0,boosting_type='Plain')\n",
    "#cb = cbt.CatBoostClassifier()\n",
    "\n",
    "cb.fit(X_train, y_train)\n",
    "y_pred = cb.predict(X_test)\n",
    "print(classification_report(y_test,y_pred))\n",
    "print(\"Accuracy of CatBoost: \"+ str(accuracy_score(y_test, y_pred)))\n",
    "print(\"Precision of CatBoost: \"+ str(precision_score(y_test, y_pred, average='weighted')))\n",
    "print(\"Recall of CatBoost: \"+ str(recall_score(y_test, y_pred, average='weighted')))\n",
    "print(\"Average F1 of CatBoost: \"+ str(f1_score(y_test, y_pred, average='weighted')))\n",
    "print(\"F1 of CatBoost for each type of attack: \"+ str(f1_score(y_test, y_pred, average=None)))\n",
    "cb_f1=f1_score(y_test, y_pred, average=None)\n",
    "\n",
    "# Plot the confusion matrix\n",
    "cm=confusion_matrix(y_test,y_pred)\n",
    "f,ax=plt.subplots(figsize=(5,5))\n",
    "sns.heatmap(cm,annot=True,linewidth=0.5,linecolor=\"red\",fmt=\".0f\",ax=ax)\n",
    "plt.xlabel(\"y_pred\")\n",
    "plt.ylabel(\"y_true\")\n",
    "plt.show()"
   ]
  },
  {
   "cell_type": "code",
   "execution_count": 31,
   "id": "ba92c158-ea80-4b5b-97d0-fa41c638cb03",
   "metadata": {},
   "outputs": [],
   "source": [
    "# Leading model list for each class\n",
    "model=[]\n",
    "for i in range(len(lg_f1)):\n",
    "    if max(lg_f1[i],xg_f1[i],cb_f1[i]) == lg_f1[i]:\n",
    "        model.append(lg)\n",
    "    elif max(lg_f1[i],xg_f1[i],cb_f1[i]) == xg_f1[i]:\n",
    "        model.append(xg)\n",
    "    else:\n",
    "        model.append(cb)"
   ]
  },
  {
   "cell_type": "code",
   "execution_count": 32,
   "id": "87babdfa-36c5-4e71-aa77-0b572e8611a9",
   "metadata": {},
   "outputs": [
    {
     "data": {
      "text/plain": [
       "[LGBMClassifier(),\n",
       " LGBMClassifier(),\n",
       " LGBMClassifier(),\n",
       " XGBClassifier(base_score=None, booster=None, callbacks=None,\n",
       "               colsample_bylevel=None, colsample_bynode=None,\n",
       "               colsample_bytree=None, device=None, early_stopping_rounds=None,\n",
       "               enable_categorical=False, eval_metric=None, feature_types=None,\n",
       "               gamma=None, grow_policy=None, importance_type=None,\n",
       "               interaction_constraints=None, learning_rate=None, max_bin=None,\n",
       "               max_cat_threshold=None, max_cat_to_onehot=None,\n",
       "               max_delta_step=None, max_depth=None, max_leaves=None,\n",
       "               min_child_weight=None, missing=nan, monotone_constraints=None,\n",
       "               multi_strategy=None, n_estimators=None, n_jobs=None,\n",
       "               num_parallel_tree=None, objective='multi:softprob', ...),\n",
       " LGBMClassifier(),\n",
       " LGBMClassifier(),\n",
       " XGBClassifier(base_score=None, booster=None, callbacks=None,\n",
       "               colsample_bylevel=None, colsample_bynode=None,\n",
       "               colsample_bytree=None, device=None, early_stopping_rounds=None,\n",
       "               enable_categorical=False, eval_metric=None, feature_types=None,\n",
       "               gamma=None, grow_policy=None, importance_type=None,\n",
       "               interaction_constraints=None, learning_rate=None, max_bin=None,\n",
       "               max_cat_threshold=None, max_cat_to_onehot=None,\n",
       "               max_delta_step=None, max_depth=None, max_leaves=None,\n",
       "               min_child_weight=None, missing=nan, monotone_constraints=None,\n",
       "               multi_strategy=None, n_estimators=None, n_jobs=None,\n",
       "               num_parallel_tree=None, objective='multi:softprob', ...)]"
      ]
     },
     "execution_count": 32,
     "metadata": {},
     "output_type": "execute_result"
    }
   ],
   "source": [
    "model"
   ]
  },
  {
   "cell_type": "code",
   "execution_count": 33,
   "id": "331aee2a-9c86-4e4a-bad0-0430d00af783",
   "metadata": {},
   "outputs": [],
   "source": [
    "def LCCDE(X_test, y_test, m1, m2, m3):\n",
    "    i = 0\n",
    "    t = []\n",
    "    m = []\n",
    "    yt = []\n",
    "    yp = []\n",
    "    l = []\n",
    "    pred_l = []\n",
    "    pro_l = []\n",
    "\n",
    "    # For each class (normal or a type of attack), find the leader model\n",
    "    for xi, yi in stream.iter_pandas(X_test, y_test):\n",
    "\n",
    "        xi2=np.array(list(xi.values()))\n",
    "        y_pred1 = m1.predict(xi2.reshape(1, -1))      # model 1 (LightGBM) makes a prediction on text sample xi\n",
    "        y_pred1 = int(y_pred1[0])\n",
    "        y_pred2 = m2.predict(xi2.reshape(1, -1))      # model 2 (XGBoost) makes a prediction on text sample xi\n",
    "        y_pred2 = int(y_pred2[0])\n",
    "        y_pred3 = m3.predict(xi2.reshape(1, -1))      # model 3 (Catboost) makes a prediction on text sample xi\n",
    "        y_pred3 = int(y_pred3[0])\n",
    "\n",
    "        p1 = m1.predict_proba(xi2.reshape(1, -1))     # The prediction probability (confidence) list of model 1 \n",
    "        p2 = m2.predict_proba(xi2.reshape(1, -1))     # The prediction probability (confidence) list of model 2  \n",
    "        p3 = m3.predict_proba(xi2.reshape(1, -1))     # The prediction probability (confidence) list of model 3  \n",
    "\n",
    "        # Find the highest prediction probability among all classes for each ML model\n",
    "        y_pred_p1 = np.max(p1)\n",
    "        y_pred_p2 = np.max(p2)\n",
    "        y_pred_p3 = np.max(p3)\n",
    "\n",
    "        if y_pred1 == y_pred2 == y_pred3: # If the predicted classes of all the three models are the same\n",
    "            y_pred = y_pred1 # Use this predicted class as the final predicted class\n",
    "\n",
    "        elif y_pred1 != y_pred2 != y_pred3: # If the predicted classes of all the three models are different\n",
    "            # For each prediction model, check if the predicted class’s original ML model is the same as its leader model\n",
    "            if model[y_pred1]==m1: # If they are the same and the leading model is model 1 (LightGBM)\n",
    "                l.append(m1)\n",
    "                pred_l.append(y_pred1) # Save the predicted class\n",
    "                pro_l.append(y_pred_p1) # Save the confidence\n",
    "\n",
    "            if model[y_pred2]==m2: # If they are the same and the leading model is model 2 (XGBoost)\n",
    "                l.append(m2)\n",
    "                pred_l.append(y_pred2)\n",
    "                pro_l.append(y_pred_p2)\n",
    "\n",
    "            if model[y_pred3]==m3: # If they are the same and the leading model is model 3 (CatBoost)\n",
    "                l.append(m3)\n",
    "                pred_l.append(y_pred3)\n",
    "                pro_l.append(y_pred_p3)\n",
    "\n",
    "            if len(l)==0: # Avoid empty probability list\n",
    "                pro_l=[y_pred_p1,y_pred_p2,y_pred_p3]\n",
    "\n",
    "            elif len(l)==1: # If only one pair of the original model and the leader model for each predicted class is the same\n",
    "                y_pred=pred_l[0] # Use the predicted class of the leader model as the final prediction class\n",
    "\n",
    "            else: # If no pair or multiple pairs of the original prediction model and the leader model for each predicted class are the same\n",
    "                max_p = max(pro_l) # Find the highest confidence\n",
    "                \n",
    "                # Use the predicted class with the highest confidence as the final prediction class\n",
    "                if max_p == y_pred_p1:\n",
    "                    y_pred = y_pred1\n",
    "                elif max_p == y_pred_p2:\n",
    "                    y_pred = y_pred2\n",
    "                else:\n",
    "                    y_pred = y_pred3  \n",
    "        \n",
    "        else: # If two predicted classes are the same and the other one is different\n",
    "            n = mode([y_pred1,y_pred2,y_pred3]) # Find the predicted class with the majority vote\n",
    "            y_pred = model[n].predict(xi2.reshape(1, -1)) # Use the predicted class of the leader model as the final prediction class\n",
    "            y_pred = int(y_pred[0]) \n",
    "\n",
    "        yt.append(yi)\n",
    "        yp.append(y_pred) # Save the predicted classes for all tested samples\n",
    "    return yt, yp"
   ]
  },
  {
   "cell_type": "code",
   "execution_count": 34,
   "id": "e7992146-bb32-41f1-98bb-1780a936e59f",
   "metadata": {},
   "outputs": [
    {
     "name": "stdout",
     "output_type": "stream",
     "text": [
      "CPU times: total: 1min 35s\n",
      "Wall time: 1min 2s\n"
     ]
    }
   ],
   "source": [
    "%%time\n",
    "# Implementing LCCDE\n",
    "yt, yp = LCCDE(X_test, y_test, m1 = lg, m2 = xg, m3 = cb)"
   ]
  },
  {
   "cell_type": "code",
   "execution_count": 35,
   "id": "613c4b83-025d-41c9-b5cf-fc7688c681ab",
   "metadata": {},
   "outputs": [
    {
     "name": "stdout",
     "output_type": "stream",
     "text": [
      "Accuracy of LCCDE: 0.9973880597014926\n",
      "Precision of LCCDE: 0.9973948719998583\n",
      "Recall of LCCDE: 0.9973880597014926\n",
      "Average F1 of LCCDE: 0.9973619374922564\n",
      "F1 of LCCDE for each type of attack: [0.99835976 0.99481865 1.         0.99672668 0.85714286 0.99354839\n",
      " 0.99667774]\n"
     ]
    }
   ],
   "source": [
    "# The performance of the proposed lCCDE model\n",
    "print(\"Accuracy of LCCDE: \"+ str(accuracy_score(yt, yp)))\n",
    "print(\"Precision of LCCDE: \"+ str(precision_score(yt, yp, average='weighted')))\n",
    "print(\"Recall of LCCDE: \"+ str(recall_score(yt, yp, average='weighted')))\n",
    "print(\"Average F1 of LCCDE: \"+ str(f1_score(yt, yp, average='weighted')))\n",
    "print(\"F1 of LCCDE for each type of attack: \"+ str(f1_score(yt, yp, average=None)))"
   ]
  },
  {
   "cell_type": "code",
   "execution_count": 36,
   "id": "2bfd14c1-38ef-4f0a-8042-dcd15e4f19f3",
   "metadata": {},
   "outputs": [
    {
     "name": "stdout",
     "output_type": "stream",
     "text": [
      "F1 of LightGBM for each type of attack: [0.99808743 0.99481865 1.         0.99672131 0.85714286 0.99354839\n",
      " 0.99667037]\n",
      "F1 of XGBoost for each type of attack: [0.99808586 0.99092088 1.         0.99836868 0.85714286 0.99137931\n",
      " 0.99667774]\n",
      "F1 of CatBoost for each type of attack: [0.99753964 0.99353169 1.         0.99427637 0.85714286 0.99137931\n",
      " 0.99334812]\n"
     ]
    }
   ],
   "source": [
    "# Comparison: The F1-scores for each base model\n",
    "print(\"F1 of LightGBM for each type of attack: \"+ str(lg_f1))\n",
    "print(\"F1 of XGBoost for each type of attack: \"+ str(xg_f1))\n",
    "print(\"F1 of CatBoost for each type of attack: \"+ str(cb_f1))"
   ]
  },
  {
   "cell_type": "code",
   "execution_count": null,
   "id": "7be1b3f3-a5d8-4282-b24b-49733d79e985",
   "metadata": {},
   "outputs": [],
   "source": []
  }
 ],
 "metadata": {
  "kernelspec": {
   "display_name": "Python 3 (ipykernel)",
   "language": "python",
   "name": "python3"
  },
  "language_info": {
   "codemirror_mode": {
    "name": "ipython",
    "version": 3
   },
   "file_extension": ".py",
   "mimetype": "text/x-python",
   "name": "python",
   "nbconvert_exporter": "python",
   "pygments_lexer": "ipython3",
   "version": "3.12.4"
  }
 },
 "nbformat": 4,
 "nbformat_minor": 5
}
